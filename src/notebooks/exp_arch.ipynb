{
 "cells": [
  {
   "cell_type": "code",
   "execution_count": 2,
   "id": "c952735e",
   "metadata": {},
   "outputs": [],
   "source": [
    "import numpy as np\n",
    "import torch\n",
    "import albumentations as A\n",
    "from torch.utils.data import Dataset, DataLoader\n",
    "from torch import nn\n",
    "from torchcnnbuilder.models import ForecasterBase\n",
    "from pathlib import Path\n",
    "import os\n",
    "from torch.nn import functional as F\n",
    "import mlflow\n",
    "from torchinfo import summary\n",
    "from tqdm import tqdm\n",
    "import matplotlib.pyplot as plt"
   ]
  },
  {
   "cell_type": "code",
   "execution_count": 3,
   "id": "420a6f02",
   "metadata": {},
   "outputs": [],
   "source": [
    "# class MakeTimeSeriesData:\n",
    "#     def __init__(self, path:str, window_size:int = 28*12, target_size:int=28*6, normalize = None) -> None:\n",
    "#         self.path = Path(path)\n",
    "#         self.normalize = normalize\n",
    "#         self.window_size = window_size\n",
    "#         self.target_size = target_size\n",
    "#         self.x_train = dict()\n",
    "#         self.y_train = dict()\n",
    "#         self.x_val = dict()\n",
    "#         self.y_val = dict()\n",
    "#         self.x_test = dict()\n",
    "#         self.y_test = dict()\n",
    "#         self.x_train_tensor = dict()\n",
    "#         self.y_train_tensor = dict()\n",
    "#         self.x_val_tensor = dict()\n",
    "#         self.y_val_tensor = dict()\n",
    "#         self.x_test_tensor = dict()\n",
    "#         self.y_test_tensor = dict()\n",
    "\n",
    "\n",
    "#     def load(self):\n",
    "#         feat = True\n",
    "#         current = list()\n",
    "#         for file in sorted(os.listdir(self.path)):\n",
    "#             day = self._get_day(file)\n",
    "#             year = self._get_year(file)\n",
    "#             if year < 2020 and year < 2018:\n",
    "#                 if day <= 28:\n",
    "#                     current.append(self.path / Path(file))\n",
    "#                 if feat and len(current) == 28*12:\n",
    "#                     feat = False\n",
    "#                     self.x_train[len(self.x_train.keys())] = current\n",
    "#                     current = list()\n",
    "#                 elif feat is False and len(current) == 28*6:\n",
    "#                     feat = True\n",
    "#                     self.y_train[len(self.y_train.keys())] = current\n",
    "#                     current = list()\n",
    "#             elif year > 2018:\n",
    "#                 if day <= 28:\n",
    "#                     current.append(self.path / Path(file))\n",
    "#                 if feat and len(current) == 28*12:\n",
    "#                     feat = False\n",
    "#                     self.x_val[len(self.x_test.keys())] = current\n",
    "#                     current = list()\n",
    "#                 elif feat is False and len(current) == 28*6:\n",
    "#                     feat = True\n",
    "#                     self.y_val[len(self.y_test.keys())] = current\n",
    "#                     current = list()\n",
    "#             else:\n",
    "#                 if day <= 28:\n",
    "#                     current.append(self.path / Path(file))\n",
    "#                 if feat and len(current) == 28*12:\n",
    "#                     feat = False\n",
    "#                     self.x_test[len(self.x_test.keys())] = current\n",
    "#                     current = list()\n",
    "#                 elif feat is False and len(current) == 28*6:\n",
    "#                     feat = True\n",
    "#                     self.y_test[len(self.y_test.keys())] = current\n",
    "#                     current = list()\n",
    "\n",
    "#     def get_data(self):\n",
    "#         for index, data in tqdm(self.x_train.items()):\n",
    "#             feat = [torch.from_numpy(np.load(path)) for path in data]\n",
    "#             target = [torch.from_numpy(np.load(path)) for path in self.y_train[index]]\n",
    "#             feat, target = torch.stack(feat), torch.stack(target)\n",
    "#             feat, target = feat.to(torch.float32), target.to(torch.float32)\n",
    "#             self.x_train_tensor[index] = feat\n",
    "#             self.y_train_tensor[index] = target\n",
    "#         for index, data in tqdm(self.x_test.items()):\n",
    "#             feat = [torch.from_numpy(np.load(path)) for path in data]\n",
    "#             target = [torch.from_numpy(np.load(path)) for path in self.y_test[index]]\n",
    "#             feat, target = torch.stack(feat), torch.stack(target)\n",
    "#             feat, target = feat.to(torch.float32), target.to(torch.float32)\n",
    "#             self.x_test_tensor[index] = feat\n",
    "#             self.y_test_tensor[index] = target\n",
    "#         for index, data in tqdm(self.x_val.items()):\n",
    "#             feat = [torch.from_numpy(np.load(path)) for path in data]\n",
    "#             target = [torch.from_numpy(np.load(path)) for path in self.y_test[index]]\n",
    "#             feat, target = torch.stack(feat), torch.stack(target)\n",
    "#             feat, target = feat.to(torch.float32), target.to(torch.float32)\n",
    "#             self.x_test_tensor[index] = feat\n",
    "#             self.y_test_tensor[index] = target\n",
    "        \n",
    "#     def _get_day(self, filename:str):\n",
    "#         return int(filename.split('_')[1].split('.')[0][-2:])\n",
    "\n",
    "#     def _get_year(self, filename:str):\n",
    "#         return int(filename.split('_')[1].split('.')[0][:4])"
   ]
  },
  {
   "cell_type": "code",
   "execution_count": 4,
   "id": "ab72a4db",
   "metadata": {},
   "outputs": [],
   "source": [
    "class MakeTimeSeriesPerWeek:\n",
    "    def __init__(self, path:str):\n",
    "        self.path = Path(path)\n",
    "        self.x_train = dict()\n",
    "        self.y_train = dict()\n",
    "        self.x_val = dict()\n",
    "        self.y_val = dict()\n",
    "        self.x_test = dict()\n",
    "        self.y_test = dict()\n",
    "        self.train = list()\n",
    "        self.val = list()\n",
    "        self.test = list()\n",
    "    \n",
    "    def _get_day(self, filename:str):\n",
    "        return int(filename.split('_')[1].split('.')[0][-2:])\n",
    "\n",
    "    def _get_year(self, filename:str):\n",
    "        return int(filename.split('_')[1].split('.')[0][:4])\n",
    "    \n",
    "    def _get_month(self, filename:str):\n",
    "        return int(filename.split('_')[1].split('.')[0][4:6])\n",
    "    \n",
    "    def _normalize(self, ar:np.array):\n",
    "        return ar / ar.max().item()\n",
    "    \n",
    "    def _base_normalize(self, arr:np.array):\n",
    "        return arr / 100\n",
    "    \n",
    "    def _form_data(self, inp_path:list):\n",
    "        sum_im = None\n",
    "        for im in inp_path:\n",
    "            current = np.load(im)\n",
    "            current = self._base_normalize(current)\n",
    "            if sum_im is None:\n",
    "                sum_im = current\n",
    "            else:\n",
    "                sum_im += current\n",
    "        return sum_im / 7\n",
    "    \n",
    "    def _collect_average_info(self):\n",
    "        feat_and_target = list()\n",
    "        current = list()\n",
    "        week = list()\n",
    "        for file in tqdm(sorted(os.listdir(self.path))):\n",
    "            day = self._get_day(file)\n",
    "            month = self._get_month(file)\n",
    "            if day > 28 and month == 2:\n",
    "                continue\n",
    "            else:\n",
    "                week.append(self.path / Path(file))\n",
    "                if len(week) == 7:\n",
    "                    val = torch.tensor(self._form_data(week))\n",
    "                    current.append(val)\n",
    "                    week = list()\n",
    "                    if len(current) == 72:\n",
    "                        feat_and_target.append(current)\n",
    "                        current = list()\n",
    "        self.train = feat_and_target[:-2]\n",
    "        self.val = feat_and_target[-2:-1]\n",
    "        self.test = [feat_and_target[-1]]\n",
    "\n",
    "    def _prepare_data(self, inp:list, feat:dict, target:dict):\n",
    "        for val in tqdm(inp):\n",
    "            feat[len(feat.keys())] = torch.stack(val[:48])\n",
    "            target[len(target.keys())] = torch.stack(val[48:])\n",
    "\n",
    "    def load(self):\n",
    "        self._collect_average_info()\n",
    "        self._prepare_data(self.train, self.x_train, self.y_train)\n",
    "        self._prepare_data(self.val, self.x_val, self.y_val)\n",
    "        self._prepare_data(self.test, self.x_test, self.y_test)"
   ]
  },
  {
   "cell_type": "code",
   "execution_count": 5,
   "id": "04657d35",
   "metadata": {},
   "outputs": [],
   "source": [
    "class IceDataset(Dataset):\n",
    "    def __init__(self, x:dict, y:dict) -> None:\n",
    "        self.x = x\n",
    "        self.y = y\n",
    "\n",
    "    def __len__(self):\n",
    "        return len(self.x.keys())\n",
    "    \n",
    "    def __getitem__(self, index):\n",
    "        return self.x[index], self.y[index]"
   ]
  },
  {
   "cell_type": "code",
   "execution_count": 6,
   "id": "92a4a881",
   "metadata": {},
   "outputs": [],
   "source": [
    "class ModelArtic(nn.Module):\n",
    "    def __init__(self, c_in, c_out, num_layers, batch_norm = False):\n",
    "        super().__init__()\n",
    "        self.batch_norm = batch_norm\n",
    "        self.c_in = c_in\n",
    "        self.c_out = c_out\n",
    "        self.num_layers = num_layers\n",
    "        if batch_norm:\n",
    "            self.bn = nn.BatchNorm2d(4)\n",
    "        self.model = ForecasterBase(input_size=[432, 432],\n",
    "                       in_time_points=self.c_in,\n",
    "                       out_time_points=self.c_out,\n",
    "                       n_layers=self.num_layers)\n",
    "    def forward(self, x):\n",
    "        if self.batch_norm:\n",
    "            x = self.bn(x)\n",
    "        x = self.model(x)\n",
    "        return x"
   ]
  },
  {
   "cell_type": "code",
   "execution_count": 7,
   "id": "27123d52",
   "metadata": {},
   "outputs": [],
   "source": [
    "def train(model, dataloader, current_epoch, lr = 1e-5):\n",
    "    model.train()\n",
    "    device = torch.device('cuda' if torch.cuda.is_available() else 'cpu')\n",
    "    model = model.to(device)\n",
    "    optimizer = torch.optim.AdamW(lr=lr, params=model.parameters())\n",
    "    loss_sum = 0.0\n",
    "    count_objects = len(dataloader)\n",
    "\n",
    "    for index, (x, y) in tqdm(enumerate(dataloader)):\n",
    "        optimizer.zero_grad()\n",
    "        x = x.to(device).to(torch.float32)\n",
    "        y = y.to(device).to(torch.float32)\n",
    "        logits = model(x)\n",
    "        loss = F.l1_loss(logits, y)\n",
    "        loss.backward()\n",
    "        optimizer.step()\n",
    "        global_step = current_epoch * len(dataloader) + index \n",
    "        mlflow.log_metric('MAE loss per step', loss.item(), step=global_step)\n",
    "        loss_sum += loss   \n",
    "    torch.cuda.empty_cache() \n",
    "    return loss_sum / count_objects"
   ]
  },
  {
   "cell_type": "code",
   "execution_count": 8,
   "id": "a1037dc3",
   "metadata": {},
   "outputs": [],
   "source": [
    "def evaluate(model, dataloader):\n",
    "    device = torch.device('cuda' if torch.cuda.is_available() else 'cpu')\n",
    "    model = model.to(device)\n",
    "    model.eval()\n",
    "    metric = 0\n",
    "\n",
    "    with torch.no_grad():\n",
    "        for data in tqdm(dataloader):\n",
    "            x, y = data\n",
    "            x  = x.to(device).to(torch.float32)\n",
    "            y = y.to(device).to(torch.float32)\n",
    "            preds = model(x)\n",
    "            er = F.l1_loss(preds, y).item()\n",
    "            metric += er\n",
    "        torch.cuda.empty_cache()\n",
    "    return metric / len(dataloader)"
   ]
  },
  {
   "cell_type": "markdown",
   "id": "8801a72f",
   "metadata": {},
   "source": [
    "Training with 1 year duration in input, 6 months as output"
   ]
  },
  {
   "cell_type": "code",
   "execution_count": 9,
   "id": "22032fa6",
   "metadata": {},
   "outputs": [
    {
     "name": "stderr",
     "output_type": "stream",
     "text": [
      "100%|██████████| 15341/15341 [00:16<00:00, 936.33it/s]\n",
      "100%|██████████| 28/28 [00:00<00:00, 47.10it/s]\n",
      "100%|██████████| 1/1 [00:00<00:00, 44.69it/s]\n",
      "100%|██████████| 1/1 [00:00<00:00, 44.05it/s]\n"
     ]
    }
   ],
   "source": [
    "data_split = MakeTimeSeriesPerWeek(r'D:\\Arctic_project\\dataset\\osisaf')\n",
    "data_split.load()"
   ]
  },
  {
   "cell_type": "code",
   "execution_count": 13,
   "id": "44a17400",
   "metadata": {},
   "outputs": [],
   "source": [
    "batch_size = 8"
   ]
  },
  {
   "cell_type": "code",
   "execution_count": 14,
   "id": "e36ca235",
   "metadata": {},
   "outputs": [],
   "source": [
    "dataset_train = IceDataset(data_split.x_train, data_split.y_train)\n",
    "dataset_test = IceDataset(data_split.x_test, data_split.y_test)\n",
    "dataset_val = IceDataset(data_split.x_val, data_split.y_val)"
   ]
  },
  {
   "cell_type": "code",
   "execution_count": 15,
   "id": "22fc399a",
   "metadata": {},
   "outputs": [],
   "source": [
    "dataloader_train = DataLoader(dataset=dataset_train, \n",
    "                              batch_size=batch_size)\n",
    "\n",
    "dataloader_test = DataLoader(dataset=dataset_test,\n",
    "                             batch_size=batch_size)\n",
    "\n",
    "dataloader_val = DataLoader(dataset=dataset_val,\n",
    "                            batch_size=batch_size)"
   ]
  },
  {
   "cell_type": "code",
   "execution_count": 12,
   "id": "079b75fa",
   "metadata": {},
   "outputs": [],
   "source": [
    "model = ModelArtic(c_in=48, c_out=24, num_layers=5)"
   ]
  },
  {
   "cell_type": "code",
   "execution_count": 13,
   "id": "6994eb32",
   "metadata": {},
   "outputs": [
    {
     "data": {
      "text/plain": [
       "<Experiment: artifact_location='file:///d:/Artic_model/mlruns/481099135687968271', creation_time=1750279794231, experiment_id='481099135687968271', last_update_time=1750279794231, lifecycle_stage='active', name='model trained per week, min/max scaler', tags={}>"
      ]
     },
     "execution_count": 13,
     "metadata": {},
     "output_type": "execute_result"
    }
   ],
   "source": [
    "mlflow.set_experiment(experiment_name='model trained per week, min/max scaler')"
   ]
  },
  {
   "cell_type": "code",
   "execution_count": 14,
   "id": "fc7011fe",
   "metadata": {},
   "outputs": [],
   "source": [
    "epochs = 100"
   ]
  },
  {
   "cell_type": "code",
   "execution_count": 15,
   "id": "940de8b3",
   "metadata": {},
   "outputs": [
    {
     "name": "stderr",
     "output_type": "stream",
     "text": [
      "2025/06/24 12:58:24 WARNING mlflow.utils.git_utils: Failed to import Git (the Git executable is probably not on your PATH), so Git SHA is not available. Error: Failed to initialize: Bad git executable.\n",
      "The git executable must be specified in one of the following ways:\n",
      "    - be included in your $PATH\n",
      "    - be set via $GIT_PYTHON_GIT_EXECUTABLE\n",
      "    - explicitly set via git.refresh(<full-path-to-git-executable>)\n",
      "\n",
      "All git commands will error until this is rectified.\n",
      "\n",
      "This initial message can be silenced or aggravated in the future by setting the\n",
      "$GIT_PYTHON_REFRESH environment variable. Use one of the following values:\n",
      "    - quiet|q|silence|s|silent|none|n|0: for no message or exception\n",
      "    - warn|w|warning|log|l|1: for a warning message (logging level CRITICAL, displayed by default)\n",
      "    - error|e|exception|raise|r|2: for a raised exception\n",
      "\n",
      "Example:\n",
      "    export GIT_PYTHON_REFRESH=quiet\n",
      "\n"
     ]
    },
    {
     "name": "stdout",
     "output_type": "stream",
     "text": [
      "Epoch 1\n"
     ]
    },
    {
     "name": "stderr",
     "output_type": "stream",
     "text": [
      "4it [02:47, 41.80s/it]\n",
      "100%|██████████| 1/1 [00:00<00:00,  6.84it/s]\n"
     ]
    },
    {
     "name": "stdout",
     "output_type": "stream",
     "text": [
      "Current metric on validation is 0.09172898530960083\n",
      "Epoch 2\n"
     ]
    },
    {
     "name": "stderr",
     "output_type": "stream",
     "text": [
      "4it [02:07, 31.97s/it]\n",
      "100%|██████████| 1/1 [00:00<00:00,  7.36it/s]\n"
     ]
    },
    {
     "name": "stdout",
     "output_type": "stream",
     "text": [
      "Current metric on validation is 0.0903225764632225\n",
      "Epoch 3\n"
     ]
    },
    {
     "name": "stderr",
     "output_type": "stream",
     "text": [
      "4it [02:04, 31.07s/it]\n",
      "100%|██████████| 1/1 [00:00<00:00,  7.36it/s]\n"
     ]
    },
    {
     "name": "stdout",
     "output_type": "stream",
     "text": [
      "Current metric on validation is 0.08897720277309418\n",
      "Epoch 4\n"
     ]
    },
    {
     "name": "stderr",
     "output_type": "stream",
     "text": [
      "4it [02:01, 30.41s/it]\n",
      "100%|██████████| 1/1 [00:00<00:00,  7.36it/s]\n"
     ]
    },
    {
     "name": "stdout",
     "output_type": "stream",
     "text": [
      "Current metric on validation is 0.08779118955135345\n",
      "Epoch 5\n"
     ]
    },
    {
     "name": "stderr",
     "output_type": "stream",
     "text": [
      "4it [02:02, 30.53s/it]\n",
      "100%|██████████| 1/1 [00:00<00:00,  7.25it/s]\n"
     ]
    },
    {
     "name": "stdout",
     "output_type": "stream",
     "text": [
      "Current metric on validation is 0.08656088262796402\n",
      "Epoch 6\n"
     ]
    },
    {
     "name": "stderr",
     "output_type": "stream",
     "text": [
      "4it [02:01, 30.31s/it]\n",
      "100%|██████████| 1/1 [00:00<00:00,  7.29it/s]\n"
     ]
    },
    {
     "name": "stdout",
     "output_type": "stream",
     "text": [
      "Current metric on validation is 0.08533795922994614\n",
      "Epoch 7\n"
     ]
    },
    {
     "name": "stderr",
     "output_type": "stream",
     "text": [
      "4it [02:01, 30.29s/it]\n",
      "100%|██████████| 1/1 [00:00<00:00,  7.34it/s]\n"
     ]
    },
    {
     "name": "stdout",
     "output_type": "stream",
     "text": [
      "Current metric on validation is 0.08407872170209885\n",
      "Epoch 8\n"
     ]
    },
    {
     "name": "stderr",
     "output_type": "stream",
     "text": [
      "4it [02:00, 30.15s/it]\n",
      "100%|██████████| 1/1 [00:00<00:00,  7.24it/s]\n"
     ]
    },
    {
     "name": "stdout",
     "output_type": "stream",
     "text": [
      "Current metric on validation is 0.08285963535308838\n",
      "Epoch 9\n"
     ]
    },
    {
     "name": "stderr",
     "output_type": "stream",
     "text": [
      "4it [02:01, 30.30s/it]\n",
      "100%|██████████| 1/1 [00:00<00:00,  7.33it/s]\n"
     ]
    },
    {
     "name": "stdout",
     "output_type": "stream",
     "text": [
      "Current metric on validation is 0.08165889978408813\n",
      "Epoch 10\n"
     ]
    },
    {
     "name": "stderr",
     "output_type": "stream",
     "text": [
      "4it [02:02, 30.58s/it]\n",
      "100%|██████████| 1/1 [00:00<00:00,  6.88it/s]\n"
     ]
    },
    {
     "name": "stdout",
     "output_type": "stream",
     "text": [
      "Current metric on validation is 0.08064389228820801\n",
      "Epoch 11\n"
     ]
    },
    {
     "name": "stderr",
     "output_type": "stream",
     "text": [
      "4it [02:02, 30.74s/it]\n",
      "100%|██████████| 1/1 [00:00<00:00,  7.44it/s]\n"
     ]
    },
    {
     "name": "stdout",
     "output_type": "stream",
     "text": [
      "Current metric on validation is 0.07964818924665451\n",
      "Epoch 12\n"
     ]
    },
    {
     "name": "stderr",
     "output_type": "stream",
     "text": [
      "4it [02:01, 30.50s/it]\n",
      "100%|██████████| 1/1 [00:00<00:00,  7.31it/s]\n"
     ]
    },
    {
     "name": "stdout",
     "output_type": "stream",
     "text": [
      "Current metric on validation is 0.07859919965267181\n",
      "Epoch 13\n"
     ]
    },
    {
     "name": "stderr",
     "output_type": "stream",
     "text": [
      "4it [02:02, 30.53s/it]\n",
      "100%|██████████| 1/1 [00:00<00:00,  7.30it/s]\n"
     ]
    },
    {
     "name": "stdout",
     "output_type": "stream",
     "text": [
      "Current metric on validation is 0.07750559598207474\n",
      "Epoch 14\n"
     ]
    },
    {
     "name": "stderr",
     "output_type": "stream",
     "text": [
      "4it [02:03, 30.94s/it]\n",
      "100%|██████████| 1/1 [00:00<00:00,  7.31it/s]\n"
     ]
    },
    {
     "name": "stdout",
     "output_type": "stream",
     "text": [
      "Current metric on validation is 0.07635511457920074\n",
      "Epoch 15\n"
     ]
    },
    {
     "name": "stderr",
     "output_type": "stream",
     "text": [
      "4it [02:01, 30.32s/it]\n",
      "100%|██████████| 1/1 [00:00<00:00,  7.25it/s]\n"
     ]
    },
    {
     "name": "stdout",
     "output_type": "stream",
     "text": [
      "Current metric on validation is 0.07514777779579163\n",
      "Epoch 16\n"
     ]
    },
    {
     "name": "stderr",
     "output_type": "stream",
     "text": [
      "4it [02:01, 30.27s/it]\n",
      "100%|██████████| 1/1 [00:00<00:00,  7.46it/s]\n"
     ]
    },
    {
     "name": "stdout",
     "output_type": "stream",
     "text": [
      "Current metric on validation is 0.07387444376945496\n",
      "Epoch 17\n"
     ]
    },
    {
     "name": "stderr",
     "output_type": "stream",
     "text": [
      "4it [02:01, 30.25s/it]\n",
      "100%|██████████| 1/1 [00:00<00:00,  7.40it/s]\n"
     ]
    },
    {
     "name": "stdout",
     "output_type": "stream",
     "text": [
      "Current metric on validation is 0.07250885665416718\n",
      "Epoch 18\n"
     ]
    },
    {
     "name": "stderr",
     "output_type": "stream",
     "text": [
      "4it [02:01, 30.34s/it]\n",
      "100%|██████████| 1/1 [00:00<00:00,  7.39it/s]\n"
     ]
    },
    {
     "name": "stdout",
     "output_type": "stream",
     "text": [
      "Current metric on validation is 0.0709662139415741\n",
      "Epoch 19\n"
     ]
    },
    {
     "name": "stderr",
     "output_type": "stream",
     "text": [
      "4it [02:02, 30.72s/it]\n",
      "100%|██████████| 1/1 [00:00<00:00,  7.40it/s]\n"
     ]
    },
    {
     "name": "stdout",
     "output_type": "stream",
     "text": [
      "Current metric on validation is 0.06939981877803802\n",
      "Epoch 20\n"
     ]
    },
    {
     "name": "stderr",
     "output_type": "stream",
     "text": [
      "4it [02:02, 30.60s/it]\n",
      "100%|██████████| 1/1 [00:00<00:00,  7.47it/s]\n"
     ]
    },
    {
     "name": "stdout",
     "output_type": "stream",
     "text": [
      "Current metric on validation is 0.0676029622554779\n",
      "Epoch 21\n"
     ]
    },
    {
     "name": "stderr",
     "output_type": "stream",
     "text": [
      "4it [02:01, 30.42s/it]\n",
      "100%|██████████| 1/1 [00:00<00:00,  7.43it/s]\n"
     ]
    },
    {
     "name": "stdout",
     "output_type": "stream",
     "text": [
      "Current metric on validation is 0.06567034125328064\n",
      "Epoch 22\n"
     ]
    },
    {
     "name": "stderr",
     "output_type": "stream",
     "text": [
      "4it [02:04, 31.10s/it]\n",
      "100%|██████████| 1/1 [00:00<00:00,  7.28it/s]\n"
     ]
    },
    {
     "name": "stdout",
     "output_type": "stream",
     "text": [
      "Current metric on validation is 0.06360034644603729\n",
      "Epoch 23\n"
     ]
    },
    {
     "name": "stderr",
     "output_type": "stream",
     "text": [
      "4it [02:03, 30.85s/it]\n",
      "100%|██████████| 1/1 [00:00<00:00,  7.19it/s]\n"
     ]
    },
    {
     "name": "stdout",
     "output_type": "stream",
     "text": [
      "Current metric on validation is 0.06117209419608116\n",
      "Epoch 24\n"
     ]
    },
    {
     "name": "stderr",
     "output_type": "stream",
     "text": [
      "4it [02:03, 30.86s/it]\n",
      "100%|██████████| 1/1 [00:00<00:00,  7.32it/s]\n"
     ]
    },
    {
     "name": "stdout",
     "output_type": "stream",
     "text": [
      "Current metric on validation is 0.05897212028503418\n",
      "Epoch 25\n"
     ]
    },
    {
     "name": "stderr",
     "output_type": "stream",
     "text": [
      "4it [02:05, 31.29s/it]\n",
      "100%|██████████| 1/1 [00:00<00:00,  7.21it/s]\n"
     ]
    },
    {
     "name": "stdout",
     "output_type": "stream",
     "text": [
      "Current metric on validation is 0.05678899213671684\n",
      "Epoch 26\n"
     ]
    },
    {
     "name": "stderr",
     "output_type": "stream",
     "text": [
      "4it [02:04, 31.13s/it]\n",
      "100%|██████████| 1/1 [00:00<00:00,  7.11it/s]\n"
     ]
    },
    {
     "name": "stdout",
     "output_type": "stream",
     "text": [
      "Current metric on validation is 0.05488354712724686\n",
      "Epoch 27\n"
     ]
    },
    {
     "name": "stderr",
     "output_type": "stream",
     "text": [
      "4it [02:05, 31.34s/it]\n",
      "100%|██████████| 1/1 [00:00<00:00,  7.40it/s]\n"
     ]
    },
    {
     "name": "stdout",
     "output_type": "stream",
     "text": [
      "Current metric on validation is 0.05284085124731064\n",
      "Epoch 28\n"
     ]
    },
    {
     "name": "stderr",
     "output_type": "stream",
     "text": [
      "4it [02:05, 31.46s/it]\n",
      "100%|██████████| 1/1 [00:00<00:00,  7.08it/s]\n"
     ]
    },
    {
     "name": "stdout",
     "output_type": "stream",
     "text": [
      "Current metric on validation is 0.05095755308866501\n",
      "Epoch 29\n"
     ]
    },
    {
     "name": "stderr",
     "output_type": "stream",
     "text": [
      "4it [02:06, 31.51s/it]\n",
      "100%|██████████| 1/1 [00:00<00:00,  7.17it/s]\n"
     ]
    },
    {
     "name": "stdout",
     "output_type": "stream",
     "text": [
      "Current metric on validation is 0.04944337159395218\n",
      "Epoch 30\n"
     ]
    },
    {
     "name": "stderr",
     "output_type": "stream",
     "text": [
      "4it [02:06, 31.63s/it]\n",
      "100%|██████████| 1/1 [00:00<00:00,  7.27it/s]\n"
     ]
    },
    {
     "name": "stdout",
     "output_type": "stream",
     "text": [
      "Current metric on validation is 0.04835532233119011\n",
      "Epoch 31\n"
     ]
    },
    {
     "name": "stderr",
     "output_type": "stream",
     "text": [
      "4it [02:06, 31.51s/it]\n",
      "100%|██████████| 1/1 [00:00<00:00,  7.36it/s]\n"
     ]
    },
    {
     "name": "stdout",
     "output_type": "stream",
     "text": [
      "Current metric on validation is 0.04745529964566231\n",
      "Epoch 32\n"
     ]
    },
    {
     "name": "stderr",
     "output_type": "stream",
     "text": [
      "4it [02:07, 31.85s/it]\n",
      "100%|██████████| 1/1 [00:00<00:00,  7.39it/s]\n"
     ]
    },
    {
     "name": "stdout",
     "output_type": "stream",
     "text": [
      "Current metric on validation is 0.046740759164094925\n",
      "Epoch 33\n"
     ]
    },
    {
     "name": "stderr",
     "output_type": "stream",
     "text": [
      "4it [02:03, 30.87s/it]\n",
      "100%|██████████| 1/1 [00:00<00:00,  7.33it/s]\n"
     ]
    },
    {
     "name": "stdout",
     "output_type": "stream",
     "text": [
      "Current metric on validation is 0.0459660142660141\n",
      "Epoch 34\n"
     ]
    },
    {
     "name": "stderr",
     "output_type": "stream",
     "text": [
      "4it [02:04, 31.19s/it]\n",
      "100%|██████████| 1/1 [00:00<00:00,  6.71it/s]\n"
     ]
    },
    {
     "name": "stdout",
     "output_type": "stream",
     "text": [
      "Current metric on validation is 0.04523022100329399\n",
      "Epoch 35\n"
     ]
    },
    {
     "name": "stderr",
     "output_type": "stream",
     "text": [
      "4it [02:17, 34.38s/it]\n",
      "100%|██████████| 1/1 [00:00<00:00,  6.86it/s]\n"
     ]
    },
    {
     "name": "stdout",
     "output_type": "stream",
     "text": [
      "Current metric on validation is 0.04480360075831413\n",
      "Epoch 36\n"
     ]
    },
    {
     "name": "stderr",
     "output_type": "stream",
     "text": [
      "4it [02:08, 32.23s/it]\n",
      "100%|██████████| 1/1 [00:00<00:00,  7.25it/s]\n"
     ]
    },
    {
     "name": "stdout",
     "output_type": "stream",
     "text": [
      "Current metric on validation is 0.044050831347703934\n",
      "Epoch 37\n"
     ]
    },
    {
     "name": "stderr",
     "output_type": "stream",
     "text": [
      "4it [02:06, 31.73s/it]\n",
      "100%|██████████| 1/1 [00:00<00:00,  7.35it/s]\n"
     ]
    },
    {
     "name": "stdout",
     "output_type": "stream",
     "text": [
      "Current metric on validation is 0.043463680893182755\n",
      "Epoch 38\n"
     ]
    },
    {
     "name": "stderr",
     "output_type": "stream",
     "text": [
      "4it [02:06, 31.66s/it]\n",
      "100%|██████████| 1/1 [00:00<00:00,  7.28it/s]\n"
     ]
    },
    {
     "name": "stdout",
     "output_type": "stream",
     "text": [
      "Current metric on validation is 0.04300687462091446\n",
      "Epoch 39\n"
     ]
    },
    {
     "name": "stderr",
     "output_type": "stream",
     "text": [
      "4it [02:06, 31.61s/it]\n",
      "100%|██████████| 1/1 [00:00<00:00,  7.32it/s]\n"
     ]
    },
    {
     "name": "stdout",
     "output_type": "stream",
     "text": [
      "Current metric on validation is 0.04249752312898636\n",
      "Epoch 40\n"
     ]
    },
    {
     "name": "stderr",
     "output_type": "stream",
     "text": [
      "4it [02:06, 31.62s/it]\n",
      "100%|██████████| 1/1 [00:00<00:00,  7.24it/s]\n"
     ]
    },
    {
     "name": "stdout",
     "output_type": "stream",
     "text": [
      "Current metric on validation is 0.04201393574476242\n",
      "Epoch 41\n"
     ]
    },
    {
     "name": "stderr",
     "output_type": "stream",
     "text": [
      "4it [02:06, 31.64s/it]\n",
      "100%|██████████| 1/1 [00:00<00:00,  7.28it/s]\n"
     ]
    },
    {
     "name": "stdout",
     "output_type": "stream",
     "text": [
      "Current metric on validation is 0.04163039103150368\n",
      "Epoch 42\n"
     ]
    },
    {
     "name": "stderr",
     "output_type": "stream",
     "text": [
      "4it [02:04, 31.23s/it]\n",
      "100%|██████████| 1/1 [00:00<00:00,  7.38it/s]\n"
     ]
    },
    {
     "name": "stdout",
     "output_type": "stream",
     "text": [
      "Current metric on validation is 0.040651507675647736\n",
      "Epoch 43\n"
     ]
    },
    {
     "name": "stderr",
     "output_type": "stream",
     "text": [
      "4it [02:03, 30.95s/it]\n",
      "100%|██████████| 1/1 [00:00<00:00,  7.45it/s]\n"
     ]
    },
    {
     "name": "stdout",
     "output_type": "stream",
     "text": [
      "Current metric on validation is 0.04033048823475838\n",
      "Epoch 44\n"
     ]
    },
    {
     "name": "stderr",
     "output_type": "stream",
     "text": [
      "4it [02:03, 30.91s/it]\n",
      "100%|██████████| 1/1 [00:00<00:00,  7.28it/s]\n"
     ]
    },
    {
     "name": "stdout",
     "output_type": "stream",
     "text": [
      "Current metric on validation is 0.039397384971380234\n",
      "Epoch 45\n"
     ]
    },
    {
     "name": "stderr",
     "output_type": "stream",
     "text": [
      "4it [02:03, 30.92s/it]\n",
      "100%|██████████| 1/1 [00:00<00:00,  7.41it/s]\n"
     ]
    },
    {
     "name": "stdout",
     "output_type": "stream",
     "text": [
      "Current metric on validation is 0.03938383236527443\n",
      "Epoch 46\n"
     ]
    },
    {
     "name": "stderr",
     "output_type": "stream",
     "text": [
      "4it [02:03, 30.92s/it]\n",
      "100%|██████████| 1/1 [00:00<00:00,  7.28it/s]\n"
     ]
    },
    {
     "name": "stdout",
     "output_type": "stream",
     "text": [
      "Current metric on validation is 0.038388825953006744\n",
      "Epoch 47\n"
     ]
    },
    {
     "name": "stderr",
     "output_type": "stream",
     "text": [
      "4it [02:03, 30.96s/it]\n",
      "100%|██████████| 1/1 [00:00<00:00,  6.59it/s]\n"
     ]
    },
    {
     "name": "stdout",
     "output_type": "stream",
     "text": [
      "Current metric on validation is 0.03820151835680008\n",
      "Epoch 48\n"
     ]
    },
    {
     "name": "stderr",
     "output_type": "stream",
     "text": [
      "4it [02:03, 30.95s/it]\n",
      "100%|██████████| 1/1 [00:00<00:00,  6.31it/s]\n"
     ]
    },
    {
     "name": "stdout",
     "output_type": "stream",
     "text": [
      "Current metric on validation is 0.03741435706615448\n",
      "Epoch 49\n"
     ]
    },
    {
     "name": "stderr",
     "output_type": "stream",
     "text": [
      "4it [02:03, 30.95s/it]\n",
      "100%|██████████| 1/1 [00:00<00:00,  7.33it/s]\n"
     ]
    },
    {
     "name": "stdout",
     "output_type": "stream",
     "text": [
      "Current metric on validation is 0.0378815196454525\n",
      "Epoch 50\n"
     ]
    },
    {
     "name": "stderr",
     "output_type": "stream",
     "text": [
      "4it [02:03, 30.97s/it]\n",
      "100%|██████████| 1/1 [00:00<00:00,  7.34it/s]\n"
     ]
    },
    {
     "name": "stdout",
     "output_type": "stream",
     "text": [
      "Current metric on validation is 0.03669466823339462\n",
      "Epoch 51\n"
     ]
    },
    {
     "name": "stderr",
     "output_type": "stream",
     "text": [
      "4it [02:03, 30.96s/it]\n",
      "100%|██████████| 1/1 [00:00<00:00,  7.35it/s]\n"
     ]
    },
    {
     "name": "stdout",
     "output_type": "stream",
     "text": [
      "Current metric on validation is 0.03748850151896477\n",
      "Epoch 52\n"
     ]
    },
    {
     "name": "stderr",
     "output_type": "stream",
     "text": [
      "4it [02:04, 31.02s/it]\n",
      "100%|██████████| 1/1 [00:00<00:00,  7.34it/s]\n"
     ]
    },
    {
     "name": "stdout",
     "output_type": "stream",
     "text": [
      "Current metric on validation is 0.036297935992479324\n",
      "Epoch 53\n"
     ]
    },
    {
     "name": "stderr",
     "output_type": "stream",
     "text": [
      "4it [02:04, 31.00s/it]\n",
      "100%|██████████| 1/1 [00:00<00:00,  7.27it/s]\n"
     ]
    },
    {
     "name": "stdout",
     "output_type": "stream",
     "text": [
      "Current metric on validation is 0.03677951544523239\n",
      "Epoch 54\n"
     ]
    },
    {
     "name": "stderr",
     "output_type": "stream",
     "text": [
      "4it [02:03, 30.93s/it]\n",
      "100%|██████████| 1/1 [00:00<00:00,  7.21it/s]\n"
     ]
    },
    {
     "name": "stdout",
     "output_type": "stream",
     "text": [
      "Current metric on validation is 0.03593704104423523\n",
      "Epoch 55\n"
     ]
    },
    {
     "name": "stderr",
     "output_type": "stream",
     "text": [
      "4it [02:03, 30.92s/it]\n",
      "100%|██████████| 1/1 [00:00<00:00,  7.42it/s]\n"
     ]
    },
    {
     "name": "stdout",
     "output_type": "stream",
     "text": [
      "Current metric on validation is 0.03631655126810074\n",
      "Epoch 56\n"
     ]
    },
    {
     "name": "stderr",
     "output_type": "stream",
     "text": [
      "4it [02:04, 31.20s/it]\n",
      "100%|██████████| 1/1 [00:00<00:00,  7.30it/s]\n"
     ]
    },
    {
     "name": "stdout",
     "output_type": "stream",
     "text": [
      "Current metric on validation is 0.03554896265268326\n",
      "Epoch 57\n"
     ]
    },
    {
     "name": "stderr",
     "output_type": "stream",
     "text": [
      "4it [02:06, 31.66s/it]\n",
      "100%|██████████| 1/1 [00:00<00:00,  7.31it/s]\n"
     ]
    },
    {
     "name": "stdout",
     "output_type": "stream",
     "text": [
      "Current metric on validation is 0.035976339131593704\n",
      "Epoch 58\n"
     ]
    },
    {
     "name": "stderr",
     "output_type": "stream",
     "text": [
      "4it [02:06, 31.65s/it]\n",
      "100%|██████████| 1/1 [00:00<00:00,  7.24it/s]\n"
     ]
    },
    {
     "name": "stdout",
     "output_type": "stream",
     "text": [
      "Current metric on validation is 0.03507395088672638\n",
      "Epoch 59\n"
     ]
    },
    {
     "name": "stderr",
     "output_type": "stream",
     "text": [
      "4it [02:06, 31.67s/it]\n",
      "100%|██████████| 1/1 [00:00<00:00,  7.35it/s]\n"
     ]
    },
    {
     "name": "stdout",
     "output_type": "stream",
     "text": [
      "Current metric on validation is 0.0356823205947876\n",
      "Epoch 60\n"
     ]
    },
    {
     "name": "stderr",
     "output_type": "stream",
     "text": [
      "4it [02:06, 31.66s/it]\n",
      "100%|██████████| 1/1 [00:00<00:00,  7.19it/s]\n"
     ]
    },
    {
     "name": "stdout",
     "output_type": "stream",
     "text": [
      "Current metric on validation is 0.035013891756534576\n",
      "Epoch 61\n"
     ]
    },
    {
     "name": "stderr",
     "output_type": "stream",
     "text": [
      "4it [02:06, 31.63s/it]\n",
      "100%|██████████| 1/1 [00:00<00:00,  7.23it/s]\n"
     ]
    },
    {
     "name": "stdout",
     "output_type": "stream",
     "text": [
      "Current metric on validation is 0.03557784482836723\n",
      "Epoch 62\n"
     ]
    },
    {
     "name": "stderr",
     "output_type": "stream",
     "text": [
      "4it [02:06, 31.67s/it]\n",
      "100%|██████████| 1/1 [00:00<00:00,  7.21it/s]\n"
     ]
    },
    {
     "name": "stdout",
     "output_type": "stream",
     "text": [
      "Current metric on validation is 0.03474308177828789\n",
      "Epoch 63\n"
     ]
    },
    {
     "name": "stderr",
     "output_type": "stream",
     "text": [
      "4it [02:06, 31.68s/it]\n",
      "100%|██████████| 1/1 [00:00<00:00,  7.26it/s]\n"
     ]
    },
    {
     "name": "stdout",
     "output_type": "stream",
     "text": [
      "Current metric on validation is 0.035332538187503815\n",
      "Epoch 64\n"
     ]
    },
    {
     "name": "stderr",
     "output_type": "stream",
     "text": [
      "4it [02:06, 31.67s/it]\n",
      "100%|██████████| 1/1 [00:00<00:00,  7.34it/s]\n"
     ]
    },
    {
     "name": "stdout",
     "output_type": "stream",
     "text": [
      "Current metric on validation is 0.03470880910754204\n",
      "Epoch 65\n"
     ]
    },
    {
     "name": "stderr",
     "output_type": "stream",
     "text": [
      "4it [02:06, 31.54s/it]\n",
      "100%|██████████| 1/1 [00:00<00:00,  7.25it/s]\n"
     ]
    },
    {
     "name": "stdout",
     "output_type": "stream",
     "text": [
      "Current metric on validation is 0.03510921820998192\n",
      "Epoch 66\n"
     ]
    },
    {
     "name": "stderr",
     "output_type": "stream",
     "text": [
      "4it [02:06, 31.61s/it]\n",
      "100%|██████████| 1/1 [00:00<00:00,  7.17it/s]\n"
     ]
    },
    {
     "name": "stdout",
     "output_type": "stream",
     "text": [
      "Current metric on validation is 0.034520473331213\n",
      "Epoch 67\n"
     ]
    },
    {
     "name": "stderr",
     "output_type": "stream",
     "text": [
      "4it [02:06, 31.61s/it]\n",
      "100%|██████████| 1/1 [00:00<00:00,  7.21it/s]\n"
     ]
    },
    {
     "name": "stdout",
     "output_type": "stream",
     "text": [
      "Current metric on validation is 0.03499283269047737\n",
      "Epoch 68\n"
     ]
    },
    {
     "name": "stderr",
     "output_type": "stream",
     "text": [
      "4it [02:06, 31.69s/it]\n",
      "100%|██████████| 1/1 [00:00<00:00,  7.12it/s]\n"
     ]
    },
    {
     "name": "stdout",
     "output_type": "stream",
     "text": [
      "Current metric on validation is 0.03444822505116463\n",
      "Epoch 69\n"
     ]
    },
    {
     "name": "stderr",
     "output_type": "stream",
     "text": [
      "4it [02:06, 31.50s/it]\n",
      "100%|██████████| 1/1 [00:00<00:00,  7.23it/s]\n"
     ]
    },
    {
     "name": "stdout",
     "output_type": "stream",
     "text": [
      "Current metric on validation is 0.034785378724336624\n",
      "Epoch 70\n"
     ]
    },
    {
     "name": "stderr",
     "output_type": "stream",
     "text": [
      "4it [02:06, 31.64s/it]\n",
      "100%|██████████| 1/1 [00:00<00:00,  7.07it/s]\n"
     ]
    },
    {
     "name": "stdout",
     "output_type": "stream",
     "text": [
      "Current metric on validation is 0.03446968272328377\n",
      "Epoch 71\n"
     ]
    },
    {
     "name": "stderr",
     "output_type": "stream",
     "text": [
      "4it [02:06, 31.67s/it]\n",
      "100%|██████████| 1/1 [00:00<00:00,  7.20it/s]\n"
     ]
    },
    {
     "name": "stdout",
     "output_type": "stream",
     "text": [
      "Current metric on validation is 0.034731823951005936\n",
      "Epoch 72\n"
     ]
    },
    {
     "name": "stderr",
     "output_type": "stream",
     "text": [
      "4it [02:06, 31.69s/it]\n",
      "100%|██████████| 1/1 [00:00<00:00,  7.27it/s]\n"
     ]
    },
    {
     "name": "stdout",
     "output_type": "stream",
     "text": [
      "Current metric on validation is 0.03441496193408966\n",
      "Epoch 73\n"
     ]
    },
    {
     "name": "stderr",
     "output_type": "stream",
     "text": [
      "4it [02:05, 31.41s/it]\n",
      "100%|██████████| 1/1 [00:00<00:00,  7.09it/s]\n"
     ]
    },
    {
     "name": "stdout",
     "output_type": "stream",
     "text": [
      "Current metric on validation is 0.0345916673541069\n",
      "Epoch 74\n"
     ]
    },
    {
     "name": "stderr",
     "output_type": "stream",
     "text": [
      "4it [02:06, 31.51s/it]\n",
      "100%|██████████| 1/1 [00:00<00:00,  7.23it/s]\n"
     ]
    },
    {
     "name": "stdout",
     "output_type": "stream",
     "text": [
      "Current metric on validation is 0.0342341773211956\n",
      "Epoch 75\n"
     ]
    },
    {
     "name": "stderr",
     "output_type": "stream",
     "text": [
      "4it [02:06, 31.62s/it]\n",
      "100%|██████████| 1/1 [00:00<00:00,  7.18it/s]\n"
     ]
    },
    {
     "name": "stdout",
     "output_type": "stream",
     "text": [
      "Current metric on validation is 0.03435993567109108\n",
      "Epoch 76\n"
     ]
    },
    {
     "name": "stderr",
     "output_type": "stream",
     "text": [
      "4it [02:06, 31.63s/it]\n",
      "100%|██████████| 1/1 [00:00<00:00,  7.13it/s]\n"
     ]
    },
    {
     "name": "stdout",
     "output_type": "stream",
     "text": [
      "Current metric on validation is 0.034317560493946075\n",
      "Epoch 77\n"
     ]
    },
    {
     "name": "stderr",
     "output_type": "stream",
     "text": [
      "4it [02:06, 31.50s/it]\n",
      "100%|██████████| 1/1 [00:00<00:00,  7.30it/s]\n"
     ]
    },
    {
     "name": "stdout",
     "output_type": "stream",
     "text": [
      "Current metric on validation is 0.03428460285067558\n",
      "Epoch 78\n"
     ]
    },
    {
     "name": "stderr",
     "output_type": "stream",
     "text": [
      "4it [02:05, 31.32s/it]\n",
      "100%|██████████| 1/1 [00:00<00:00,  7.19it/s]\n"
     ]
    },
    {
     "name": "stdout",
     "output_type": "stream",
     "text": [
      "Current metric on validation is 0.03410759195685387\n",
      "Epoch 79\n"
     ]
    },
    {
     "name": "stderr",
     "output_type": "stream",
     "text": [
      "4it [02:04, 31.16s/it]\n",
      "100%|██████████| 1/1 [00:00<00:00,  7.20it/s]\n"
     ]
    },
    {
     "name": "stdout",
     "output_type": "stream",
     "text": [
      "Current metric on validation is 0.03415204584598541\n",
      "Epoch 80\n"
     ]
    },
    {
     "name": "stderr",
     "output_type": "stream",
     "text": [
      "4it [02:04, 31.23s/it]\n",
      "100%|██████████| 1/1 [00:00<00:00,  6.08it/s]\n"
     ]
    },
    {
     "name": "stdout",
     "output_type": "stream",
     "text": [
      "Current metric on validation is 0.034133028239011765\n",
      "Epoch 81\n"
     ]
    },
    {
     "name": "stderr",
     "output_type": "stream",
     "text": [
      "4it [02:05, 31.28s/it]\n",
      "100%|██████████| 1/1 [00:00<00:00,  7.15it/s]\n"
     ]
    },
    {
     "name": "stdout",
     "output_type": "stream",
     "text": [
      "Current metric on validation is 0.03394990414381027\n",
      "Epoch 82\n"
     ]
    },
    {
     "name": "stderr",
     "output_type": "stream",
     "text": [
      "4it [02:04, 31.10s/it]\n",
      "100%|██████████| 1/1 [00:00<00:00,  7.27it/s]\n"
     ]
    },
    {
     "name": "stdout",
     "output_type": "stream",
     "text": [
      "Current metric on validation is 0.03399087116122246\n",
      "Epoch 83\n"
     ]
    },
    {
     "name": "stderr",
     "output_type": "stream",
     "text": [
      "4it [02:04, 31.19s/it]\n",
      "100%|██████████| 1/1 [00:00<00:00,  7.15it/s]\n"
     ]
    },
    {
     "name": "stdout",
     "output_type": "stream",
     "text": [
      "Current metric on validation is 0.03385549038648605\n",
      "Epoch 84\n"
     ]
    },
    {
     "name": "stderr",
     "output_type": "stream",
     "text": [
      "4it [02:04, 31.24s/it]\n",
      "100%|██████████| 1/1 [00:00<00:00,  7.17it/s]\n"
     ]
    },
    {
     "name": "stdout",
     "output_type": "stream",
     "text": [
      "Current metric on validation is 0.03384272754192352\n",
      "Epoch 85\n"
     ]
    },
    {
     "name": "stderr",
     "output_type": "stream",
     "text": [
      "4it [02:04, 31.22s/it]\n",
      "100%|██████████| 1/1 [00:00<00:00,  7.06it/s]\n"
     ]
    },
    {
     "name": "stdout",
     "output_type": "stream",
     "text": [
      "Current metric on validation is 0.033785123378038406\n",
      "Epoch 86\n"
     ]
    },
    {
     "name": "stderr",
     "output_type": "stream",
     "text": [
      "4it [02:05, 31.28s/it]\n",
      "100%|██████████| 1/1 [00:00<00:00,  7.25it/s]\n"
     ]
    },
    {
     "name": "stdout",
     "output_type": "stream",
     "text": [
      "Current metric on validation is 0.033714111894369125\n",
      "Epoch 87\n"
     ]
    },
    {
     "name": "stderr",
     "output_type": "stream",
     "text": [
      "4it [02:05, 31.27s/it]\n",
      "100%|██████████| 1/1 [00:00<00:00,  7.30it/s]\n"
     ]
    },
    {
     "name": "stdout",
     "output_type": "stream",
     "text": [
      "Current metric on validation is 0.0337284691631794\n",
      "Epoch 88\n"
     ]
    },
    {
     "name": "stderr",
     "output_type": "stream",
     "text": [
      "4it [02:04, 31.23s/it]\n",
      "100%|██████████| 1/1 [00:00<00:00,  7.22it/s]\n"
     ]
    },
    {
     "name": "stdout",
     "output_type": "stream",
     "text": [
      "Current metric on validation is 0.03356112539768219\n",
      "Epoch 89\n"
     ]
    },
    {
     "name": "stderr",
     "output_type": "stream",
     "text": [
      "4it [02:04, 31.23s/it]\n",
      "100%|██████████| 1/1 [00:00<00:00,  7.20it/s]\n"
     ]
    },
    {
     "name": "stdout",
     "output_type": "stream",
     "text": [
      "Current metric on validation is 0.03370616212487221\n",
      "Epoch 90\n"
     ]
    },
    {
     "name": "stderr",
     "output_type": "stream",
     "text": [
      "4it [02:05, 31.26s/it]\n",
      "100%|██████████| 1/1 [00:00<00:00,  7.39it/s]\n"
     ]
    },
    {
     "name": "stdout",
     "output_type": "stream",
     "text": [
      "Current metric on validation is 0.03362581133842468\n",
      "Epoch 91\n"
     ]
    },
    {
     "name": "stderr",
     "output_type": "stream",
     "text": [
      "4it [02:04, 31.22s/it]\n",
      "100%|██████████| 1/1 [00:00<00:00,  7.23it/s]\n"
     ]
    },
    {
     "name": "stdout",
     "output_type": "stream",
     "text": [
      "Current metric on validation is 0.033476218581199646\n",
      "Epoch 92\n"
     ]
    },
    {
     "name": "stderr",
     "output_type": "stream",
     "text": [
      "4it [02:05, 31.26s/it]\n",
      "100%|██████████| 1/1 [00:00<00:00,  6.88it/s]\n"
     ]
    },
    {
     "name": "stdout",
     "output_type": "stream",
     "text": [
      "Current metric on validation is 0.03351432830095291\n",
      "Epoch 93\n"
     ]
    },
    {
     "name": "stderr",
     "output_type": "stream",
     "text": [
      "4it [02:05, 31.27s/it]\n",
      "100%|██████████| 1/1 [00:00<00:00,  7.17it/s]\n"
     ]
    },
    {
     "name": "stdout",
     "output_type": "stream",
     "text": [
      "Current metric on validation is 0.033363211899995804\n",
      "Epoch 94\n"
     ]
    },
    {
     "name": "stderr",
     "output_type": "stream",
     "text": [
      "4it [02:04, 31.23s/it]\n",
      "100%|██████████| 1/1 [00:00<00:00,  7.25it/s]\n"
     ]
    },
    {
     "name": "stdout",
     "output_type": "stream",
     "text": [
      "Current metric on validation is 0.03335264325141907\n",
      "Epoch 95\n"
     ]
    },
    {
     "name": "stderr",
     "output_type": "stream",
     "text": [
      "4it [02:05, 31.26s/it]\n",
      "100%|██████████| 1/1 [00:00<00:00,  7.17it/s]\n"
     ]
    },
    {
     "name": "stdout",
     "output_type": "stream",
     "text": [
      "Current metric on validation is 0.03352707624435425\n",
      "Epoch 96\n"
     ]
    },
    {
     "name": "stderr",
     "output_type": "stream",
     "text": [
      "4it [02:05, 31.28s/it]\n",
      "100%|██████████| 1/1 [00:00<00:00,  7.14it/s]\n"
     ]
    },
    {
     "name": "stdout",
     "output_type": "stream",
     "text": [
      "Current metric on validation is 0.033305149525403976\n",
      "Epoch 97\n"
     ]
    },
    {
     "name": "stderr",
     "output_type": "stream",
     "text": [
      "4it [02:05, 31.26s/it]\n",
      "100%|██████████| 1/1 [00:00<00:00,  7.22it/s]\n"
     ]
    },
    {
     "name": "stdout",
     "output_type": "stream",
     "text": [
      "Current metric on validation is 0.03331609070301056\n",
      "Epoch 98\n"
     ]
    },
    {
     "name": "stderr",
     "output_type": "stream",
     "text": [
      "4it [02:04, 31.09s/it]\n",
      "100%|██████████| 1/1 [00:00<00:00,  7.14it/s]\n"
     ]
    },
    {
     "name": "stdout",
     "output_type": "stream",
     "text": [
      "Current metric on validation is 0.03320079669356346\n",
      "Epoch 99\n"
     ]
    },
    {
     "name": "stderr",
     "output_type": "stream",
     "text": [
      "4it [02:04, 31.24s/it]\n",
      "100%|██████████| 1/1 [00:00<00:00,  7.23it/s]\n"
     ]
    },
    {
     "name": "stdout",
     "output_type": "stream",
     "text": [
      "Current metric on validation is 0.03336351737380028\n",
      "Epoch 100\n"
     ]
    },
    {
     "name": "stderr",
     "output_type": "stream",
     "text": [
      "4it [02:04, 31.24s/it]\n",
      "100%|██████████| 1/1 [00:00<00:00,  7.09it/s]\n",
      "2025/06/24 16:29:11 WARNING mlflow.models.model: `artifact_path` is deprecated. Please use `name` instead.\n"
     ]
    },
    {
     "name": "stdout",
     "output_type": "stream",
     "text": [
      "Current metric on validation is 0.033053942024707794\n"
     ]
    },
    {
     "name": "stderr",
     "output_type": "stream",
     "text": [
      "2025/06/24 16:29:11 WARNING mlflow.utils.requirements_utils: Found torch version (2.7.1+cu118) contains a local version label (+cu118). MLflow logged a pip requirement for this package as 'torch==2.7.1' without the local version label to make it installable from PyPI. To specify pip requirements containing local version labels, please use `conda_env` or `pip_requirements`.\n",
      "2025/06/24 16:29:26 WARNING mlflow.models.model: Model logged without a signature and input example. Please set `input_example` parameter when logging the model to auto infer the model signature.\n"
     ]
    }
   ],
   "source": [
    "with mlflow.start_run() as run:\n",
    "    params = {\n",
    "        'epochs':epochs,\n",
    "        'learning_rate': 1e-5,\n",
    "        'batch_size':32,\n",
    "        'loss_function': F.l1_loss,\n",
    "        'metric_function': F.l1_loss,\n",
    "        'optimizer': 'AdamW'\n",
    "    }\n",
    "\n",
    "    mlflow.log_params(params)\n",
    "    \n",
    "    with open('model_summary.txt', 'w') as f:\n",
    "        f.write(str(summary))\n",
    "    mlflow.log_artifact('model_summary.txt')\n",
    "\n",
    "    for epoch in range(epochs):\n",
    "      print(f\"Epoch {epoch + 1}\")\n",
    "      loss_epoch = train(model, dataloader_train, epoch)\n",
    "      mlflow.log_metric('MAE avareage on epoch', loss_epoch, step=epoch)\n",
    "      val_metric = evaluate(model, dataloader_val)\n",
    "      mlflow.log_metric('MAE on validation after epoch', val_metric, step=epoch)\n",
    "      print(f'Current metric on validation is {val_metric}')\n",
    "    \n",
    "    mlflow.pytorch.log_model(model, \"model\")"
   ]
  },
  {
   "cell_type": "code",
   "execution_count": 21,
   "id": "aa696a99",
   "metadata": {},
   "outputs": [
    {
     "name": "stderr",
     "output_type": "stream",
     "text": [
      "100%|██████████| 1/1 [00:00<00:00,  2.91it/s]\n"
     ]
    },
    {
     "data": {
      "text/plain": [
       "0.029474876821041107"
      ]
     },
     "execution_count": 21,
     "metadata": {},
     "output_type": "execute_result"
    }
   ],
   "source": [
    "evaluate(model, dataloader_test)"
   ]
  },
  {
   "cell_type": "code",
   "execution_count": 22,
   "id": "6e73fc9b",
   "metadata": {},
   "outputs": [],
   "source": [
    "torch.save(model.state_dict(), 'bets_model.pth')"
   ]
  },
  {
   "cell_type": "code",
   "execution_count": null,
   "id": "b98f9ad5",
   "metadata": {},
   "outputs": [],
   "source": [
    "def visualize(model, dataloader: DataLoader, week_number:int = 0, count_weeks: int = 4):\n",
    "    device = torch.device('cuda' if torch.cuda.is_available() else 'cpu')\n",
    "    model.eval()\n",
    "    preds = list()\n",
    "    labels = list()\n",
    "    with torch.no_grad():\n",
    "        for data in dataloader:\n",
    "            x, y = data\n",
    "            x = x.to(device).to(torch.float32)\n",
    "            y = y.to(device).to(torch.float32)\n",
    "            logits = model(x)\n",
    "            preds.append((logits * 100).squeeze(0).cpu())\n",
    "            labels.append(y.squeeze(0).cpu())\n",
    "\n",
    "# перевести предсказания в scale от 0 до 1.\n",
    "# сделать визуализацию\n",
    "# сделать в шкале blue в визуализации\n",
    "# добавить метрик SSIM, PSNR\n",
    "# перенести все в классы\n",
    "    for i in range(4):\n",
    "        week_number += i\n",
    "        print('Ground truth visualization')\n",
    "        plt.figure()\n",
    "        plt.imshow(labels[0][week_number])\n",
    "        plt.xlabel(f'date: week number is {week_number % 4 + 1}, month {round(week_number / 6)}, year {2020}')\n",
    "        print('--------')\n",
    "        print('Prediction')\n",
    "        plt.figure()\n",
    "        plt.imshow(preds[0][week_number])\n",
    "        mae_diff = torch.mean((labels[0][week_number] - preds[0][week_number])).item()\n",
    "        plt.xlabel(f'date: week number is {week_number % 4 + 1} month {round(week_number / 6)}, year {2020}, {mae_diff}')"
   ]
  },
  {
   "cell_type": "code",
   "execution_count": 62,
   "id": "d9ff546c",
   "metadata": {},
   "outputs": [
    {
     "name": "stdout",
     "output_type": "stream",
     "text": [
      "Ground truth visualization\n",
      "--------\n",
      "Prediction\n",
      "tensor(109.4261)\n"
     ]
    },
    {
     "data": {
      "image/png": "[encoded data removed]",
      "text/plain": [
       "<Figure size 640x480 with 1 Axes>"
      ]
     },
     "metadata": {},
     "output_type": "display_data"
    },
    {
     "data": {
      "image/png": "[encoded data removed]",
      "text/plain": [
       "<Figure size 640x480 with 1 Axes>"
      ]
     },
     "metadata": {},
     "output_type": "display_data"
    }
   ],
   "source": [
    "visualize(model, dataloader_test, week_number=12)"
   ]
  },
  {
   "cell_type": "code",
   "execution_count": null,
   "id": "ce5acced",
   "metadata": {},
   "outputs": [],
   "source": []
  }
 ],
 "metadata": {
  "kernelspec": {
   "display_name": ".venv",
   "language": "python",
   "name": "python3"
  },
  "language_info": {
   "codemirror_mode": {
    "name": "ipython",
    "version": 3
   },
   "file_extension": ".py",
   "mimetype": "text/x-python",
   "name": "python",
   "nbconvert_exporter": "python",
   "pygments_lexer": "ipython3",
   "version": "3.13.4"
  }
 },
 "nbformat": 4,
 "nbformat_minor": 5
}
